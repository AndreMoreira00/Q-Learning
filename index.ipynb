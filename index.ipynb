{
  "cells": [
    {
      "cell_type": "markdown",
      "metadata": {
        "id": "zZBSZSpPy32f"
      },
      "source": [
        "# Aprendizagem por Reforço com Q-Learning"
      ]
    },
    {
      "cell_type": "markdown",
      "metadata": {
        "id": "IPibGrYny32h"
      },
      "source": [
        "### Entendendo o ambiente"
      ]
    },
    {
      "cell_type": "code",
      "execution_count": 1,
      "metadata": {
        "id": "cIdq6QOiy32i",
        "outputId": "103ff373-8385-4e43-c500-2880fcd775ab",
        "colab": {
          "base_uri": "https://localhost:8080/"
        }
      },
      "outputs": [
        {
          "output_type": "stream",
          "name": "stdout",
          "text": [
            "Requirement already satisfied: gym in /usr/local/lib/python3.10/dist-packages (0.17.3)\n",
            "Requirement already satisfied: scipy in /usr/local/lib/python3.10/dist-packages (from gym) (1.11.4)\n",
            "Requirement already satisfied: numpy>=1.10.4 in /usr/local/lib/python3.10/dist-packages (from gym) (1.25.2)\n",
            "Requirement already satisfied: pyglet<=1.5.0,>=1.4.0 in /usr/local/lib/python3.10/dist-packages (from gym) (1.5.0)\n",
            "Requirement already satisfied: cloudpickle<1.7.0,>=1.2.0 in /usr/local/lib/python3.10/dist-packages (from gym) (1.6.0)\n",
            "Requirement already satisfied: future in /usr/local/lib/python3.10/dist-packages (from pyglet<=1.5.0,>=1.4.0->gym) (0.18.3)\n",
            "Requirement already satisfied: gym==0.17.3 in /usr/local/lib/python3.10/dist-packages (0.17.3)\n",
            "Requirement already satisfied: scipy in /usr/local/lib/python3.10/dist-packages (from gym==0.17.3) (1.11.4)\n",
            "Requirement already satisfied: numpy>=1.10.4 in /usr/local/lib/python3.10/dist-packages (from gym==0.17.3) (1.25.2)\n",
            "Requirement already satisfied: pyglet<=1.5.0,>=1.4.0 in /usr/local/lib/python3.10/dist-packages (from gym==0.17.3) (1.5.0)\n",
            "Requirement already satisfied: cloudpickle<1.7.0,>=1.2.0 in /usr/local/lib/python3.10/dist-packages (from gym==0.17.3) (1.6.0)\n",
            "Requirement already satisfied: future in /usr/local/lib/python3.10/dist-packages (from pyglet<=1.5.0,>=1.4.0->gym==0.17.3) (0.18.3)\n"
          ]
        }
      ],
      "source": [
        "! pip install gym\n",
        "! pip install gym==0.17.3"
      ]
    },
    {
      "cell_type": "code",
      "source": [
        "import gym\n",
        "import random\n",
        "import os\n",
        "os.environ[\"SDL_VIDEODRIVER\"] = \"dummy\""
      ],
      "metadata": {
        "id": "5Jhqc74_1TEZ",
        "outputId": "3f770759-8ba6-471a-8b61-28d347d61445",
        "colab": {
          "base_uri": "https://localhost:8080/",
          "height": 35
        }
      },
      "execution_count": 2,
      "outputs": [
        {
          "output_type": "execute_result",
          "data": {
            "text/plain": [
              "'0.17.3'"
            ],
            "application/vnd.google.colaboratory.intrinsic+json": {
              "type": "string"
            }
          },
          "metadata": {},
          "execution_count": 2
        }
      ]
    },
    {
      "cell_type": "code",
      "source": [
        "env = gym.make('Taxi-v3')"
      ],
      "metadata": {
        "id": "bd-k2CC1y9i-"
      },
      "execution_count": 4,
      "outputs": []
    },
    {
      "cell_type": "code",
      "source": [
        "env.render()"
      ],
      "metadata": {
        "id": "rfcsEYq1zOA0",
        "outputId": "f4417927-52c9-40f5-bf30-b07f6215b890",
        "colab": {
          "base_uri": "https://localhost:8080/"
        }
      },
      "execution_count": 5,
      "outputs": [
        {
          "output_type": "stream",
          "name": "stdout",
          "text": [
            "+---------+\n",
            "|\u001b[35mR\u001b[0m: | : :G|\n",
            "| :\u001b[43m \u001b[0m| : : |\n",
            "| : : : : |\n",
            "| | : | : |\n",
            "|\u001b[34;1mY\u001b[0m| : |B: |\n",
            "+---------+\n",
            "\n"
          ]
        }
      ]
    },
    {
      "cell_type": "code",
      "source": [
        "env.reset()\n",
        "env.render()"
      ],
      "metadata": {
        "id": "g5k7KfKTzPeD",
        "outputId": "1156dd09-90e2-41fd-b732-efb77efe80c0",
        "colab": {
          "base_uri": "https://localhost:8080/"
        }
      },
      "execution_count": 6,
      "outputs": [
        {
          "output_type": "stream",
          "name": "stdout",
          "text": [
            "+---------+\n",
            "|\u001b[34;1mR\u001b[0m: | : :G|\n",
            "|\u001b[43m \u001b[0m: | : : |\n",
            "| : : : : |\n",
            "| | : | : |\n",
            "|\u001b[35mY\u001b[0m| : |B: |\n",
            "+---------+\n",
            "\n"
          ]
        }
      ]
    },
    {
      "cell_type": "code",
      "source": [
        "# 0 = south, 1 = north, 2 = east, 3 = west, 4 = pickup, 5 = dropoff\n",
        "print(env.action_space)"
      ],
      "metadata": {
        "id": "rjtzKFyb2ncU",
        "outputId": "ac146e22-d6a9-43e3-d4a4-35501bf75f35",
        "colab": {
          "base_uri": "https://localhost:8080/"
        }
      },
      "execution_count": 7,
      "outputs": [
        {
          "output_type": "stream",
          "name": "stdout",
          "text": [
            "Discrete(6)\n"
          ]
        }
      ]
    },
    {
      "cell_type": "code",
      "source": [
        "# 4 destinos 5 * 5 * 5 * 4\n",
        "print(env.observation_space)"
      ],
      "metadata": {
        "id": "b7gnEIWN4Q1B",
        "outputId": "f168722b-3147-41aa-9cad-5c4f6775ca20",
        "colab": {
          "base_uri": "https://localhost:8080/"
        }
      },
      "execution_count": 8,
      "outputs": [
        {
          "output_type": "stream",
          "name": "stdout",
          "text": [
            "Discrete(500)\n"
          ]
        }
      ]
    },
    {
      "cell_type": "code",
      "source": [
        "len(env.P)"
      ],
      "metadata": {
        "id": "n70XCZsg5EP0",
        "outputId": "3a0dfda4-6826-4705-8946-387274682616",
        "colab": {
          "base_uri": "https://localhost:8080/"
        }
      },
      "execution_count": 10,
      "outputs": [
        {
          "output_type": "execute_result",
          "data": {
            "text/plain": [
              "500"
            ]
          },
          "metadata": {},
          "execution_count": 10
        }
      ]
    },
    {
      "cell_type": "code",
      "source": [
        "env.P[484]"
      ],
      "metadata": {
        "id": "9q78NHS85h-q",
        "outputId": "df98b389-37d6-46c4-c940-dbd9a4e6a439",
        "colab": {
          "base_uri": "https://localhost:8080/"
        }
      },
      "execution_count": 12,
      "outputs": [
        {
          "output_type": "execute_result",
          "data": {
            "text/plain": [
              "{0: [(1.0, 484, -1, False)],\n",
              " 1: [(1.0, 384, -1, False)],\n",
              " 2: [(1.0, 484, -1, False)],\n",
              " 3: [(1.0, 464, -1, False)],\n",
              " 4: [(1.0, 484, -10, False)],\n",
              " 5: [(1.0, 484, -10, False)]}"
            ]
          },
          "metadata": {},
          "execution_count": 12
        }
      ]
    },
    {
      "cell_type": "markdown",
      "source": [
        "### Treinamento"
      ],
      "metadata": {
        "id": "Q1af2q4N601x"
      }
    },
    {
      "cell_type": "code",
      "source": [
        "random.uniform(0,1)"
      ],
      "metadata": {
        "id": "Rjh3f9ov79bd",
        "outputId": "2925191d-e555-4dc4-e052-864e50f1270b",
        "colab": {
          "base_uri": "https://localhost:8080/"
        }
      },
      "execution_count": 13,
      "outputs": [
        {
          "output_type": "execute_result",
          "data": {
            "text/plain": [
              "0.3840006246688329"
            ]
          },
          "metadata": {},
          "execution_count": 13
        }
      ]
    },
    {
      "cell_type": "code",
      "source": [
        "import numpy as np\n",
        "q_table = np.zeros([env.observation_space.n, env.action_space.n])\n",
        "q_table.shape"
      ],
      "metadata": {
        "id": "jtpzPAAJ8V8B",
        "outputId": "a7ac8391-59e9-40b3-9606-a3088562c70f",
        "colab": {
          "base_uri": "https://localhost:8080/"
        }
      },
      "execution_count": 19,
      "outputs": [
        {
          "output_type": "execute_result",
          "data": {
            "text/plain": [
              "(500, 6)"
            ]
          },
          "metadata": {},
          "execution_count": 19
        }
      ]
    },
    {
      "cell_type": "code",
      "source": [
        "q_table"
      ],
      "metadata": {
        "id": "t0i-MtAYAe42",
        "outputId": "d9fa7104-8f7c-4842-93e6-d7edd185cc0f",
        "colab": {
          "base_uri": "https://localhost:8080/"
        }
      },
      "execution_count": 20,
      "outputs": [
        {
          "output_type": "execute_result",
          "data": {
            "text/plain": [
              "array([[0., 0., 0., 0., 0., 0.],\n",
              "       [0., 0., 0., 0., 0., 0.],\n",
              "       [0., 0., 0., 0., 0., 0.],\n",
              "       ...,\n",
              "       [0., 0., 0., 0., 0., 0.],\n",
              "       [0., 0., 0., 0., 0., 0.],\n",
              "       [0., 0., 0., 0., 0., 0.]])"
            ]
          },
          "metadata": {},
          "execution_count": 20
        }
      ]
    },
    {
      "cell_type": "code",
      "source": [
        "%%time\n",
        "from IPython.display import clear_output\n",
        "\n",
        "alpha = 0.1\n",
        "gamma = 0.6\n",
        "epsilon = 0.1\n",
        "\n",
        "for i in range(100000):\n",
        "    estado = env.reset()\n",
        "\n",
        "    penalidades, recompensa = 0, 0\n",
        "    done = False\n",
        "    while not done:\n",
        "      # Exploração\n",
        "        if random.uniform(0, 1) < epsilon:\n",
        "          action = env.action_space.sample()\n",
        "      # Exploitation\n",
        "        else:\n",
        "          action = np.argmax(q_table[estado])\n",
        "\n",
        "        proximo_estado, recompensa, done, info = env.step(action)\n",
        "\n",
        "        q_antigo = q_table[estado, action]\n",
        "        proximo_maximo = np.max(q_table[proximo_estado])\n",
        "        q_novo = (1 - alpha) * q_antigo + alpha * (recompensa + gamma * proximo_maximo)\n",
        "        q_table[estado, action] = q_novo\n",
        "        if recompensa == -10:\n",
        "          penalidades += 1\n",
        "\n",
        "        estado = proximo_estado\n",
        "    if i % 100 == 0:\n",
        "      clear_output(wait=True)\n",
        "      print(f'Episódio: {i}')\n",
        "\n",
        "print(\"Treinamento concluido\")"
      ],
      "metadata": {
        "id": "HbrRvJo25mC7",
        "outputId": "15f0b9ae-81d2-47ac-f4bd-2033a29114ed",
        "colab": {
          "base_uri": "https://localhost:8080/"
        }
      },
      "execution_count": 21,
      "outputs": [
        {
          "output_type": "stream",
          "name": "stdout",
          "text": [
            "Episódio: 99900\n",
            "Treinamento concluido\n",
            "CPU times: user 1min, sys: 5.78 s, total: 1min 6s\n",
            "Wall time: 1min 8s\n"
          ]
        }
      ]
    },
    {
      "cell_type": "code",
      "source": [
        "q_table[482]"
      ],
      "metadata": {
        "id": "V2Cu908U_0mF",
        "outputId": "d1817e56-a8c6-4807-a832-d277f933802d",
        "colab": {
          "base_uri": "https://localhost:8080/"
        }
      },
      "execution_count": 26,
      "outputs": [
        {
          "output_type": "execute_result",
          "data": {
            "text/plain": [
              "array([-2.47461784, -2.47061344, -2.47192661, -2.47061344, -8.46288046,\n",
              "       -8.11646336])"
            ]
          },
          "metadata": {},
          "execution_count": 26
        }
      ]
    },
    {
      "cell_type": "code",
      "source": [
        "env.reset()\n",
        "env.render()"
      ],
      "metadata": {
        "id": "y0pCd-RjA9Q0",
        "outputId": "7fb0d3c1-57d0-4b7f-ba1d-45504d610fbd",
        "colab": {
          "base_uri": "https://localhost:8080/"
        }
      },
      "execution_count": 24,
      "outputs": [
        {
          "output_type": "stream",
          "name": "stdout",
          "text": [
            "+---------+\n",
            "|\u001b[34;1mR\u001b[0m: | : :G|\n",
            "| : | : : |\n",
            "| : : : : |\n",
            "| | : | : |\n",
            "|Y| : |\u001b[35mB\u001b[0m:\u001b[43m \u001b[0m|\n",
            "+---------+\n",
            "\n"
          ]
        }
      ]
    },
    {
      "cell_type": "code",
      "source": [
        "env.encode(4, 4, 0, 2)"
      ],
      "metadata": {
        "id": "1UWekqYtAur9",
        "outputId": "f5d31a51-509f-486d-839d-b396bd968342",
        "colab": {
          "base_uri": "https://localhost:8080/"
        }
      },
      "execution_count": 25,
      "outputs": [
        {
          "output_type": "execute_result",
          "data": {
            "text/plain": [
              "482"
            ]
          },
          "metadata": {},
          "execution_count": 25
        }
      ]
    },
    {
      "cell_type": "markdown",
      "source": [
        "### Avaliação"
      ],
      "metadata": {
        "id": "ITJmWkxiDkXY"
      }
    },
    {
      "cell_type": "code",
      "source": [
        "total_penalidades = 0\n",
        "episodios = 50\n",
        "frames = []\n",
        "\n",
        "for _ in range(episodios):\n",
        "  estado = env.reset()\n",
        "  penalidades, recompensa = 0, 0\n",
        "  done = False\n",
        "  while not done:\n",
        "    action = np.argmax(q_table[estado])\n",
        "    estado, recompensa, done, info = env.step(action)\n",
        "\n",
        "    if recompensa == -10:\n",
        "      penalidades += 1\n",
        "\n",
        "    frames.append({\n",
        "        'frame': env.render(mode='ansi'),\n",
        "        'state': estado,\n",
        "        'action': action,\n",
        "        'reward': recompensa\n",
        "    })\n",
        "  total_penalidades += penalidades\n",
        "\n",
        "print(f\"Episodio: {episodios}\")\n",
        "print(f\"Penalidades: {total_penalidades}\")"
      ],
      "metadata": {
        "id": "ReDxAKzfBW7P",
        "outputId": "f43089d3-c1f2-42b6-ebf4-9c14f3c4aa3a",
        "colab": {
          "base_uri": "https://localhost:8080/"
        }
      },
      "execution_count": 27,
      "outputs": [
        {
          "output_type": "stream",
          "name": "stdout",
          "text": [
            "Episodio: 50\n",
            "Penalidades: 0\n"
          ]
        }
      ]
    },
    {
      "cell_type": "code",
      "source": [
        "frames[0]"
      ],
      "metadata": {
        "id": "C8PqA3wSFGiq",
        "outputId": "6476a686-b6f9-4b98-87db-26b83e433de8",
        "colab": {
          "base_uri": "https://localhost:8080/"
        }
      },
      "execution_count": 29,
      "outputs": [
        {
          "output_type": "execute_result",
          "data": {
            "text/plain": [
              "{'frame': '+---------+\\n|\\x1b[34;1mR\\x1b[0m: | : :\\x1b[35mG\\x1b[0m|\\n| : | : : |\\n| : : : : |\\n|\\x1b[43m \\x1b[0m| : | : |\\n|Y| : |B: |\\n+---------+\\n  (North)\\n',\n",
              " 'state': 301,\n",
              " 'action': 1,\n",
              " 'reward': -1}"
            ]
          },
          "metadata": {},
          "execution_count": 29
        }
      ]
    },
    {
      "cell_type": "code",
      "source": [
        "from time import sleep\n",
        "for frame in frames:\n",
        "  clear_output(wait=True)\n",
        "  print(frame['frame'])\n",
        "  print(f\"Estado: {frame['state']}\")\n",
        "  print(f\"Ação: {frame['action']}\")\n",
        "  print(f\"Recompensa: {frame['reward']}\")\n",
        "  sleep(0.3)"
      ],
      "metadata": {
        "id": "aUdJQ6GhFPzI",
        "outputId": "3e9a0459-62ca-4aa9-a3dd-143a4ed855c6",
        "colab": {
          "base_uri": "https://localhost:8080/",
          "height": 384
        }
      },
      "execution_count": 32,
      "outputs": [
        {
          "output_type": "stream",
          "name": "stdout",
          "text": [
            "+---------+\n",
            "|R: | : :G|\n",
            "| : | : : |\n",
            "| :\u001b[43m \u001b[0m: : : |\n",
            "| | : | : |\n",
            "|\u001b[35mY\u001b[0m| : |\u001b[34;1mB\u001b[0m: |\n",
            "+---------+\n",
            "  (South)\n",
            "\n",
            "Estado: 234\n",
            "Ação: 0\n",
            "Recompensa: -1\n"
          ]
        },
        {
          "output_type": "error",
          "ename": "KeyboardInterrupt",
          "evalue": "",
          "traceback": [
            "\u001b[0;31m---------------------------------------------------------------------------\u001b[0m",
            "\u001b[0;31mKeyboardInterrupt\u001b[0m                         Traceback (most recent call last)",
            "\u001b[0;32m<ipython-input-32-84bc6ac4016a>\u001b[0m in \u001b[0;36m<cell line: 2>\u001b[0;34m()\u001b[0m\n\u001b[1;32m      6\u001b[0m   \u001b[0mprint\u001b[0m\u001b[0;34m(\u001b[0m\u001b[0;34mf\"Ação: {frame['action']}\"\u001b[0m\u001b[0;34m)\u001b[0m\u001b[0;34m\u001b[0m\u001b[0;34m\u001b[0m\u001b[0m\n\u001b[1;32m      7\u001b[0m   \u001b[0mprint\u001b[0m\u001b[0;34m(\u001b[0m\u001b[0;34mf\"Recompensa: {frame['reward']}\"\u001b[0m\u001b[0;34m)\u001b[0m\u001b[0;34m\u001b[0m\u001b[0;34m\u001b[0m\u001b[0m\n\u001b[0;32m----> 8\u001b[0;31m   \u001b[0msleep\u001b[0m\u001b[0;34m(\u001b[0m\u001b[0;36m0.3\u001b[0m\u001b[0;34m)\u001b[0m\u001b[0;34m\u001b[0m\u001b[0;34m\u001b[0m\u001b[0m\n\u001b[0m",
            "\u001b[0;31mKeyboardInterrupt\u001b[0m: "
          ]
        }
      ]
    },
    {
      "cell_type": "code",
      "source": [],
      "metadata": {
        "id": "TukY2dbmFreZ"
      },
      "execution_count": null,
      "outputs": []
    }
  ],
  "metadata": {
    "language_info": {
      "name": "python"
    },
    "colab": {
      "provenance": []
    },
    "kernelspec": {
      "name": "python3",
      "display_name": "Python 3"
    }
  },
  "nbformat": 4,
  "nbformat_minor": 0
}